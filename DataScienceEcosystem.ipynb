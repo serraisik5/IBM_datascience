{
 "cells": [
  {
   "cell_type": "markdown",
   "id": "47dd09f2",
   "metadata": {},
   "source": [
    "# Data Science Tools and Ecosystem"
   ]
  },
  {
   "cell_type": "markdown",
   "id": "270d7b48",
   "metadata": {},
   "source": [
    "### In this notebook, Data Science Tools and Ecosystem are summarized."
   ]
  },
  {
   "cell_type": "markdown",
   "id": "b9819ce4",
   "metadata": {},
   "source": [
    "#### Some of the popular languages that Data Scientists use are:\n",
    "1. Python\n",
    "2. R \n",
    "3. Java\n"
   ]
  },
  {
   "cell_type": "markdown",
   "id": "1b3dbcae",
   "metadata": {},
   "source": [
    "#### Some of the commonly used libraries used by Data Scientists include:\n",
    "1. NumPy\n",
    "2. Matplotlib\n",
    "3. Pandas\n"
   ]
  },
  {
   "cell_type": "markdown",
   "id": "6c26a7cc",
   "metadata": {},
   "source": [
    "| Data Science Tools    |\n",
    "|-----------------------|\n",
    "| Jupyter Notebook      |\n",
    "| RStudio               |\n",
    "| Apache Zeppelin       |"
   ]
  },
  {
   "cell_type": "markdown",
   "id": "a322bc39",
   "metadata": {},
   "source": [
    "### Below are a few examples of evaluating arithmetic expressions in Python"
   ]
  },
  {
   "cell_type": "code",
   "execution_count": 3,
   "id": "f0564270",
   "metadata": {},
   "outputs": [
    {
     "data": {
      "text/plain": [
       "17"
      ]
     },
     "execution_count": 3,
     "metadata": {},
     "output_type": "execute_result"
    }
   ],
   "source": [
    "#This a simple arithmetic expression to mutiply then add integers\n",
    "(3*4)+5"
   ]
  },
  {
   "cell_type": "code",
   "execution_count": 4,
   "id": "ecbfe458",
   "metadata": {},
   "outputs": [
    {
     "data": {
      "text/plain": [
       "3.3333333333333335"
      ]
     },
     "execution_count": 4,
     "metadata": {},
     "output_type": "execute_result"
    }
   ],
   "source": [
    "#This will convert 200 minutes to hours by diving by 60\n",
    "200/60"
   ]
  },
  {
   "cell_type": "markdown",
   "id": "cf34fbbd",
   "metadata": {},
   "source": [
    "**Objectives:**\n",
    "- markdown cells syntax\n",
    "- simple arithemtic \n",
    "- languages in data science\n",
    "- libraries in data science"
   ]
  },
  {
   "cell_type": "markdown",
   "id": "81613f05",
   "metadata": {},
   "source": [
    "## Author\n",
    "Serra Işık\n"
   ]
  },
  {
   "cell_type": "code",
   "execution_count": null,
   "id": "647ea9a3",
   "metadata": {},
   "outputs": [],
   "source": []
  }
 ],
 "metadata": {
  "kernelspec": {
   "display_name": "Python 3 (ipykernel)",
   "language": "python",
   "name": "python3"
  },
  "language_info": {
   "codemirror_mode": {
    "name": "ipython",
    "version": 3
   },
   "file_extension": ".py",
   "mimetype": "text/x-python",
   "name": "python",
   "nbconvert_exporter": "python",
   "pygments_lexer": "ipython3",
   "version": "3.8.3"
  }
 },
 "nbformat": 4,
 "nbformat_minor": 5
}
